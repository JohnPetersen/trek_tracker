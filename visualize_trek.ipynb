{
 "cells": [
  {
   "cell_type": "markdown",
   "id": "fd39815d-3870-4979-a0b5-06dde5a37d6e",
   "metadata": {},
   "source": [
    "# Visualize Logged Data"
   ]
  },
  {
   "cell_type": "code",
   "execution_count": null,
   "id": "f21bf793-91d8-4f00-8bba-dc76c2c11d03",
   "metadata": {
    "ExecuteTime": {
     "end_time": "2023-06-17T16:06:24.166632200Z",
     "start_time": "2023-06-17T16:06:24.142066200Z"
    }
   },
   "outputs": [],
   "source": [
    "import matplotlib.pyplot as plt\n",
    "import matplotlib.dates as mdates\n",
    "import pandas as pd\n",
    "import os"
   ]
  },
  {
   "cell_type": "markdown",
   "id": "1cd65654-3efd-4880-ad6d-59e7b0406610",
   "metadata": {},
   "source": [
    "# Settings\n",
    "Edit these settings\n",
    "- data_directory\n",
    "- adjustment_timezone"
   ]
  },
  {
   "cell_type": "code",
   "execution_count": null,
   "id": "54254528-fcef-4cb2-af1e-dfdc6e5049f5",
   "metadata": {
    "ExecuteTime": {
     "end_time": "2023-06-17T15:55:14.186434Z",
     "start_time": "2023-06-17T15:55:14.151816Z"
    }
   },
   "outputs": [],
   "source": [
    "# data_directory = './data/run_down_0607'\n",
    "data_directory = './data/run_down_0610' \n",
    "adjustment_timezone = 'America/Los_Angeles'"
   ]
  },
  {
   "cell_type": "code",
   "execution_count": null,
   "id": "a6fa38d5-2082-4202-ab04-d3420aa8d89b",
   "metadata": {
    "ExecuteTime": {
     "end_time": "2023-06-17T15:55:18.823946400Z",
     "start_time": "2023-06-17T15:55:18.013487Z"
    }
   },
   "outputs": [],
   "source": [
    "# Read data, combine the GPS date and time columns into a single datetime column.\n",
    "dfs = []\n",
    "for f in os.listdir(data_directory):\n",
    "    if f.startswith('dataLog') and f.endswith('.TXT'):\n",
    "        file_path = os.path.join(data_directory, f)\n",
    "        df = pd.read_csv(\n",
    "            file_path,\n",
    "            parse_dates={'datetimeUTC': ['gps_Date', 'gps_Time']},\n",
    "        )\n",
    "        dfs.append(df)\n",
    "data = pd.concat(dfs, ignore_index=True)\n",
    "data.info()"
   ]
  },
  {
   "cell_type": "markdown",
   "id": "2edad551-dbd4-4561-ac6a-4bee736dfc49",
   "metadata": {},
   "source": [
    "## Prepare the Data\n",
    "Drop rows where we do not have GPS data.\n",
    "This is done because we rely on the GPS date-time.\n",
    "\n",
    "Create an offset datetime column so the data is more understandable."
   ]
  },
  {
   "cell_type": "code",
   "execution_count": null,
   "id": "eb279381-cff8-4523-b39d-7013db111a9f",
   "metadata": {
    "ExecuteTime": {
     "end_time": "2023-06-17T15:55:28.890668700Z",
     "start_time": "2023-06-17T15:55:28.788295400Z"
    }
   },
   "outputs": [],
   "source": [
    "# Drop rows without GPS data\n",
    "dropIndex = data[ (data[\"gps_Lat\"] == 0) ].index\n",
    "data.drop(dropIndex , inplace=True)\n",
    "# Create an offset datetime column\n",
    "data['datetimeUTC'] = data['datetimeUTC'].dt.tz_localize('UTC')\n",
    "data['datetime_adjusted'] = data['datetimeUTC'].dt.tz_convert(adjustment_timezone)\n",
    "\n",
    "data.describe()"
   ]
  },
  {
   "cell_type": "markdown",
   "id": "96d7d501-3f84-431c-9922-f565364ce100",
   "metadata": {},
   "source": [
    "# Data Summary\n",
    "- start time\n",
    "- end time\n",
    "- elapsed time\n",
    "- number of records\n",
    "- expected record count"
   ]
  },
  {
   "cell_type": "code",
   "execution_count": null,
   "id": "d594c850-38a2-46bf-b674-d8c11284b1af",
   "metadata": {
    "ExecuteTime": {
     "end_time": "2023-06-17T15:55:36.627295900Z",
     "start_time": "2023-06-17T15:55:36.622370700Z"
    }
   },
   "outputs": [],
   "source": [
    "# Print out the summary data listed above\n",
    "print(f'Start Time: {data[\"datetime_adjusted\"].min()}')\n",
    "print(f'  End Time: {data[\"datetime_adjusted\"].max()}')\n",
    "elapsed_time = data[\"datetime_adjusted\"].max()-data[\"datetime_adjusted\"].min()\n",
    "elapsed_time_seconds = elapsed_time.total_seconds()\n",
    "print(f'   Elapsed: {elapsed_time} ({elapsed_time_seconds} s)')\n",
    "print(f'    Average Hz: {data[\"output_Hz\"].mean():.4f}')\n",
    "print(f'  Record Count: {data.shape[0]}')\n",
    "print(f'Expected Count: {elapsed_time_seconds * data[\"output_Hz\"].mean():.1f}')"
   ]
  },
  {
   "cell_type": "markdown",
   "id": "8262eff8-b3ac-44a5-8fc7-cec2332edbe8",
   "metadata": {},
   "source": [
    "## Time Series Plots\n",
    "Plot the data fields over time. Skip the Lat, Long and Heading fields."
   ]
  },
  {
   "cell_type": "code",
   "execution_count": null,
   "id": "53839186-8c18-40d2-81c8-dd17143ea434",
   "metadata": {
    "ExecuteTime": {
     "end_time": "2023-06-17T16:19:36.191688200Z",
     "start_time": "2023-06-17T16:19:18.201133600Z"
    }
   },
   "outputs": [],
   "source": [
    "fields = [\"humidity_%\", \"humidity_%.1\", \"hPa\", \"pressure_Pa\", \"degC\", \"temp_degC\", \"altitude_m\", \"gps_Alt\", \"gps_SIV\", \"gps_GroundSpeed\", \"tvoc_ppb\", \"co2_ppm\"]\n",
    "\n",
    "def plot_it(field):\n",
    "    fig, ax = plt.subplots(figsize=(20, 6))\n",
    "    ax.grid(True)\n",
    "    ax.xaxis.set_major_locator(mdates.DayLocator(interval=1))\n",
    "    ax.xaxis.set_major_formatter(mdates.DateFormatter('%B %d'))\n",
    "    ax.xaxis.set_minor_locator(mdates.HourLocator(interval=2))\n",
    "    ax.xaxis.set_minor_formatter(mdates.DateFormatter('%H:%M'))\n",
    "    ax.plot(data['datetime_adjusted'], data[field])\n",
    "    plt.title(field)\n",
    "    fig.autofmt_xdate()\n",
    "    \n",
    "\n",
    "for f in fields:\n",
    "    # print(f)\n",
    "    plot_it(f)"
   ]
  },
  {
   "cell_type": "code",
   "execution_count": null,
   "id": "0681a2f5-66a6-4ace-99d0-c0daa494f0da",
   "metadata": {},
   "outputs": [],
   "source": []
  }
 ],
 "metadata": {
  "kernelspec": {
   "display_name": "Python 3 (ipykernel)",
   "language": "python",
   "name": "python3"
  },
  "language_info": {
   "codemirror_mode": {
    "name": "ipython",
    "version": 3
   },
   "file_extension": ".py",
   "mimetype": "text/x-python",
   "name": "python",
   "nbconvert_exporter": "python",
   "pygments_lexer": "ipython3",
   "version": "3.11.3"
  }
 },
 "nbformat": 4,
 "nbformat_minor": 5
}
